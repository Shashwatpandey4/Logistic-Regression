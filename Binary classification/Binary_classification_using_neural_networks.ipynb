{
  "nbformat": 4,
  "nbformat_minor": 0,
  "metadata": {
    "colab": {
      "name": "Binary classification using neural networks.ipynb",
      "provenance": [],
      "toc_visible": true
    },
    "kernelspec": {
      "name": "python3",
      "display_name": "Python 3"
    }
  },
  "cells": [
    {
      "cell_type": "markdown",
      "metadata": {
        "id": "4VsJENkKy7ep"
      },
      "source": [
        "# **Binary classification using neural networks**"
      ]
    },
    {
      "cell_type": "markdown",
      "metadata": {
        "id": "i38SSVlEzGhl"
      },
      "source": [
        "Here, we'll be building a logistic regression classifier to recognize cats. we use neural network approach to create this classifier"
      ]
    },
    {
      "cell_type": "markdown",
      "metadata": {
        "id": "HMBVhmMpyndF"
      },
      "source": [
        "**Add dataset to your environment**"
      ]
    },
    {
      "cell_type": "code",
      "metadata": {
        "colab": {
          "resources": {
            "http://localhost:8080/nbextensions/google.colab/files.js": {
              "data": "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",
              "ok": true,
              "headers": [
                [
                  "content-type",
                  "application/javascript"
                ]
              ],
              "status": 200,
              "status_text": ""
            }
          },
          "base_uri": "https://localhost:8080/",
          "height": 38
        },
        "id": "ER-0yEBomXkT",
        "outputId": "c324b94d-bae8-477b-b0a3-25befc7e4d94"
      },
      "source": [
        "from google.colab import files\r\n",
        "uploaded = files.upload()"
      ],
      "execution_count": null,
      "outputs": [
        {
          "output_type": "display_data",
          "data": {
            "text/html": [
              "\n",
              "     <input type=\"file\" id=\"files-5e524d21-dc49-4710-aa46-22c8d9a526c3\" name=\"files[]\" multiple disabled\n",
              "        style=\"border:none\" />\n",
              "     <output id=\"result-5e524d21-dc49-4710-aa46-22c8d9a526c3\">\n",
              "      Upload widget is only available when the cell has been executed in the\n",
              "      current browser session. Please rerun this cell to enable.\n",
              "      </output>\n",
              "      <script src=\"/nbextensions/google.colab/files.js\"></script> "
            ],
            "text/plain": [
              "<IPython.core.display.HTML object>"
            ]
          },
          "metadata": {
            "tags": []
          }
        }
      ]
    },
    {
      "cell_type": "markdown",
      "metadata": {
        "id": "9ZZD3QvFz6MV"
      },
      "source": [
        "**Import necessary packages**"
      ]
    },
    {
      "cell_type": "markdown",
      "metadata": {
        "id": "E1HQiSyw2mf4"
      },
      "source": [
        "**1. numpy** - used for scientific computing\r\n",
        "\r\n",
        "\r\n",
        "\r\n",
        "**2. matplotlib** - used to plot graphs\r\n",
        "\r\n",
        "**3. h5py** - used to interact with a dataset that is stored in h5 format\r\n",
        "\r\n",
        "**4. scipy** - scientific library, we'll use it for image processing\r\n",
        "\r\n",
        "**5. PIL** - PythonImagingLibrary, for image processing                  \r\n",
        "\r\n",
        "**6. %matplotlib inline** - the output of plotting commands is displayed inline within the frontends like jupyternotebook, directly below the codecell"
      ]
    },
    {
      "cell_type": "code",
      "metadata": {
        "id": "bTI6NapinDM9"
      },
      "source": [
        "import numpy as np                        \r\n",
        "import matplotlib.pyplot as plt           \r\n",
        "import h5py                               \r\n",
        "import scipy                              \r\n",
        "from PIL import Image                     \r\n",
        "from scipy import ndimage                  \r\n",
        "\r\n",
        "%matplotlib inline                        "
      ],
      "execution_count": null,
      "outputs": []
    },
    {
      "cell_type": "markdown",
      "metadata": {
        "id": "HKOzKta-5lq_"
      },
      "source": [
        "**Problem statement** : the given dataset consists of :\r\n",
        "\r\n",
        "*   train_catvnoncat.h5 - a training set of m training images labeled as cat (y=1) or non-cat (y=0)\r\n",
        "*   test_catvnoncat.h5 - to test your model, it is also labeled as cat (y=1) or non-cat (y=0)\r\n",
        "\r\n",
        "each image is a 3d matrix with shape (num_px,num_px,3) where 3 is for the 3 channels (RGB). thus each image is a square (height = num_px) & (width = numpx)\r\n",
        "\r\n"
      ]
    },
    {
      "cell_type": "markdown",
      "metadata": {
        "id": "Hv7TNYVz7KHw"
      },
      "source": [
        "We will build a simple image-recognition algorihm that can correctly classify pictures as cat or non-cat."
      ]
    },
    {
      "cell_type": "markdown",
      "metadata": {
        "id": "SwLR34S97e-h"
      },
      "source": [
        "# **Dataset**"
      ]
    },
    {
      "cell_type": "markdown",
      "metadata": {
        "id": "458uAJEcEQpH"
      },
      "source": [
        "first we will create a function which will load and categorize our dataset"
      ]
    },
    {
      "cell_type": "code",
      "metadata": {
        "id": "GSlS2m-T7jFr"
      },
      "source": [
        "def load_dataset():\r\n",
        "\r\n",
        "  train_dataset = h5py.File(\"/content/train_catvnoncat.h5\",\"r\")\r\n",
        "  train_set_x_orig = np.array(train_dataset[\"train_set_x\"][:]) #features\r\n",
        "  train_set_y_orig = np.array(train_dataset[\"train_set_y\"][:]) #labels\r\n",
        "\r\n",
        "  test_dataset = h5py.File(\"/content/test_catvnoncat.h5\",\"r\")\r\n",
        "  test_set_x_orig = np.array(test_dataset[\"test_set_x\"][:]) #features\r\n",
        "  test_set_y_orig = np.array(test_dataset[\"test_set_y\"][:]) #labels\r\n",
        "\r\n",
        "  classes = np.array(test_dataset[\"list_classes\"][:]) #list of classes\r\n",
        "\r\n",
        "  train_set_y_orig = train_set_y_orig.reshape((1, train_set_y_orig.shape[0]))\r\n",
        "  test_set_y_orig = test_set_y_orig.reshape((1, test_set_y_orig.shape[0]))\r\n",
        "\r\n",
        "  return train_set_x_orig, train_set_y_orig, test_set_x_orig, test_set_y_orig, classes\r\n",
        "\r\n"
      ],
      "execution_count": null,
      "outputs": []
    },
    {
      "cell_type": "markdown",
      "metadata": {
        "id": "zB2sUnkLEPHU"
      },
      "source": [
        "now we will use the load_dataset() to retrive all values and put them separately in their respective variables."
      ]
    },
    {
      "cell_type": "code",
      "metadata": {
        "id": "lzEZQ0raEBpw"
      },
      "source": [
        "train_set_x_orig,  train_set_y, test_set_x_orig, test_set_y, classes = load_dataset()\r\n"
      ],
      "execution_count": null,
      "outputs": []
    },
    {
      "cell_type": "markdown",
      "metadata": {
        "id": "JNVFQ1tKGurY"
      },
      "source": [
        "\r\n",
        "We added \"_orig\" at the end of image datasets (train and test) because we are going to preprocess them. After preprocessing, we will end up with train_set_x and test_set_x (the labels train_set_y and test_set_y don't need any preprocessing)."
      ]
    },
    {
      "cell_type": "code",
      "metadata": {
        "colab": {
          "base_uri": "https://localhost:8080/"
        },
        "id": "YlZOJYtZECt2",
        "outputId": "5158baf1-631e-4f65-d08f-79bdb4e2998f"
      },
      "source": [
        "classes"
      ],
      "execution_count": null,
      "outputs": [
        {
          "output_type": "execute_result",
          "data": {
            "text/plain": [
              "array([b'non-cat', b'cat'], dtype='|S7')"
            ]
          },
          "metadata": {
            "tags": []
          },
          "execution_count": 5
        }
      ]
    },
    {
      "cell_type": "markdown",
      "metadata": {
        "id": "bzo7cip-GN3b"
      },
      "source": [
        "here, in the output dtype='|S7' means that the object is of type string and it's size is 7 (no. of bytes)."
      ]
    },
    {
      "cell_type": "markdown",
      "metadata": {
        "id": "hWERKIaZG2j_"
      },
      "source": [
        "Each line of your train_set_x_orig and test_set_x_orig is an array representing an image. You can visualize an example by running the following code. Feel free also to change the index value and re-run to see other images"
      ]
    },
    {
      "cell_type": "code",
      "metadata": {
        "colab": {
          "base_uri": "https://localhost:8080/",
          "height": 286
        },
        "id": "hRDglu9RFrl5",
        "outputId": "9aae5bc2-df23-40a3-d5eb-906cd2eefcc3"
      },
      "source": [
        "index = 25\r\n",
        "plt.imshow(train_set_x_orig[index])\r\n",
        "print(\"y = \" + str(train_set_y[:,index]) + \", it's a '\" + classes[np.squeeze(train_set_y[:,index])].decode(\"utf-8\") + \"' picture\")"
      ],
      "execution_count": null,
      "outputs": [
        {
          "output_type": "stream",
          "text": [
            "y = [1], it's a 'cat' picture\n"
          ],
          "name": "stdout"
        },
        {
          "output_type": "display_data",
          "data": {
            "image/png": "[encoded data removed]",
            "text/plain": [
              "<Figure size 432x288 with 1 Axes>"
            ]
          },
          "metadata": {
            "tags": [],
            "needs_background": "light"
          }
        }
      ]
    },
    {
      "cell_type": "code",
      "metadata": {
        "colab": {
          "base_uri": "https://localhost:8080/"
        },
        "id": "yd1yetH5Hlgz",
        "outputId": "c467c54e-85a6-4ba3-e773-94a86d73fe9f"
      },
      "source": [
        "m_train = train_set_y.shape[1]\r\n",
        "m_test = test_set_y.shape[1]\r\n",
        "num_px = train_set_x_orig.shape[1]\r\n",
        "\r\n",
        "print(\"Number of training examples : m_train = \"+str(m_train))\r\n",
        "print(\"Number of testing examples : m_test = \" +str(m_test))\r\n",
        "print(\"height/width of each image : num_px = \" + str(num_px))\r\n",
        "\r\n",
        "print(\"\\nEach image is of shape : ( \" + str(num_px) + \", \"+ str(num_px) + \", 3)\\n\")\r\n",
        "\r\n",
        "print(\"train_set_x shape : \" + str(train_set_x_orig.shape))\r\n",
        "print(\"train_set_y shape : \" + str(train_set_y.shape))\r\n",
        "print(\"test_set_x shape : \" + str(test_set_x_orig.shape))\r\n",
        "print(\"test_set_y shape : \" + str(test_set_y.shape))"
      ],
      "execution_count": null,
      "outputs": [
        {
          "output_type": "stream",
          "text": [
            "Number of training examples : m_train = 209\n",
            "Number of testing examples : m_test = 50\n",
            "height/width of each image : num_px = 64\n",
            "\n",
            "Each image is of shape : ( 64, 64, 3)\n",
            "\n",
            "train_set_x shape : (209, 64, 64, 3)\n",
            "train_set_y shape : (1, 209)\n",
            "test_set_x shape : (50, 64, 64, 3)\n",
            "test_set_y shape : (1, 50)\n"
          ],
          "name": "stdout"
        }
      ]
    },
    {
      "cell_type": "markdown",
      "metadata": {
        "id": "5n45SSQXYYYm"
      },
      "source": [
        "For convenience, you should now reshape images of shape (num_px, num_px, 3) in a numpy-array of shape (num_px $*$ num_px $*$ 3, 1). After this, our training (and test) dataset is a numpy-array where each column represents a flattened image. There should be m_train (respectively m_test) columns."
      ]
    },
    {
      "cell_type": "code",
      "metadata": {
        "colab": {
          "base_uri": "https://localhost:8080/"
        },
        "id": "mA8UvEcrUBOj",
        "outputId": "462dbb07-821c-4223-8c3b-6ec3c3ccd9fe"
      },
      "source": [
        "#Reshaping\r\n",
        "\r\n",
        "train_set_x_flatten = train_set_x_orig.reshape(train_set_x_orig.shape[0],-1).T\r\n",
        "test_set_x_flatten = test_set_x_orig.reshape(test_set_x_orig.shape[0],-1).T\r\n",
        "\r\n",
        "print (\"train_set_x_flatten shape: \" + str(train_set_x_flatten.shape))\r\n",
        "print (\"train_set_y shape: \" + str(train_set_y.shape))\r\n",
        "print (\"test_set_x_flatten shape: \" + str(test_set_x_flatten.shape))\r\n",
        "print (\"test_set_y shape: \" + str(test_set_y.shape))\r\n"
      ],
      "execution_count": null,
      "outputs": [
        {
          "output_type": "stream",
          "text": [
            "train_set_x_flatten shape: (12288, 209)\n",
            "train_set_y shape: (1, 209)\n",
            "test_set_x_flatten shape: (12288, 50)\n",
            "test_set_y shape: (1, 50)\n"
          ],
          "name": "stdout"
        }
      ]
    },
    {
      "cell_type": "markdown",
      "metadata": {
        "id": "ldk_iTQadQ_j"
      },
      "source": [
        "\r\n",
        "To represent color images, the red, green and blue channels (RGB) must be specified for each pixel, and so the pixel value is actually a vector of three numbers ranging from 0 to 255.\r\n",
        "\r\n",
        "One common preprocessing step in machine learning is to center and standardize your dataset, meaning that you substract the mean of the whole numpy array from each example, and then divide each example by the standard deviation of the whole numpy array. But for picture datasets, it is simpler and more convenient and works almost as well to just divide every row of the dataset by 255 (the maximum value of a pixel channel).\r\n",
        "\r\n",
        "Let's standardize our dataset."
      ]
    },
    {
      "cell_type": "code",
      "metadata": {
        "id": "65Y8Z2qZbkRP"
      },
      "source": [
        "train_set_x = train_set_x_flatten/255\r\n",
        "test_set_x = test_set_x_flatten/255"
      ],
      "execution_count": null,
      "outputs": []
    },
    {
      "cell_type": "markdown",
      "metadata": {
        "id": "fTzQ-Gqs0tRs"
      },
      "source": [
        "**Key steps**: In this exercise, you will carry out the following steps:\r\n",
        "\r\n",
        "- Initialize the parameters of the model\r\n",
        "- Learn the parameters for the model by minimizing the cost  \r\n",
        "- Use the learned parameters to make predictions (on the test set)\r\n",
        "- Analyse the results and conclude"
      ]
    },
    {
      "cell_type": "markdown",
      "metadata": {
        "id": "97bfD24Z04i4"
      },
      "source": [
        "## **Building parts for the algorithm**"
      ]
    },
    {
      "cell_type": "markdown",
      "metadata": {
        "id": "Rhm5vli_1DC_"
      },
      "source": [
        "**sigmoid function**"
      ]
    },
    {
      "cell_type": "code",
      "metadata": {
        "id": "xc8SgCj0diYD"
      },
      "source": [
        "def sigmoid(z):\r\n",
        "  s = 1/(1+np.exp(-z))\r\n",
        "  return s"
      ],
      "execution_count": null,
      "outputs": []
    },
    {
      "cell_type": "code",
      "metadata": {
        "colab": {
          "base_uri": "https://localhost:8080/"
        },
        "id": "iWM-CvenHLpB",
        "outputId": "dbe91619-0668-4f97-cd7f-6aff1d41ae5c"
      },
      "source": [
        "print (\"sigmoid(0) = \" + str(sigmoid(0)))\r\n",
        "print (\"sigmoid(9.2) = \" + str(sigmoid(9.2)))"
      ],
      "execution_count": null,
      "outputs": [
        {
          "output_type": "stream",
          "text": [
            "sigmoid(0) = 0.5\n",
            "sigmoid(9.2) = 0.9998989708060922\n"
          ],
          "name": "stdout"
        }
      ]
    },
    {
      "cell_type": "markdown",
      "metadata": {
        "id": "vX-rRSrY1F0G"
      },
      "source": [
        "**Initializing parameters**"
      ]
    },
    {
      "cell_type": "markdown",
      "metadata": {
        "id": "WP8kzNg51RWp"
      },
      "source": [
        "here we have to initialize W as a vector of zeros\r\n",
        "\r\n",
        "This function creates a vector of zeros of shape (dim, 1) for w and initializes b to 0.\r\n",
        "    \r\n",
        "Argument:\r\n",
        "\r\n",
        "dim -- size of the w vector we want (or number of parameters in this case)\r\n",
        "    \r\n",
        "Returns:\r\n",
        "\r\n",
        "w -- initialized vector of shape (dim, 1)\r\n",
        "\r\n",
        "b -- initialized scalar (corresponds to the bias)\r\n",
        "\r\n"
      ]
    },
    {
      "cell_type": "code",
      "metadata": {
        "id": "9adFRk4fmE9B"
      },
      "source": [
        "def initialize_with_zeros(dim):\r\n",
        "  w = np.zeros(shape=(dim,1))\r\n",
        "  b = 0\r\n",
        "\r\n",
        "  assert(w.shape == (dim,1))\r\n",
        "  assert(isinstance(b,float) or isinstance(b,int))\r\n",
        "\r\n",
        "  return w, b"
      ],
      "execution_count": null,
      "outputs": []
    },
    {
      "cell_type": "code",
      "metadata": {
        "colab": {
          "base_uri": "https://localhost:8080/"
        },
        "id": "070-W3T03h-M",
        "outputId": "7a2a5162-72c9-47bd-8869-e968c711893c"
      },
      "source": [
        "#testing \r\n",
        "dim = 2\r\n",
        "w,b = initialize_with_zeros(dim)\r\n",
        "print(\"w = \"+str(w))\r\n",
        "print(\"b = \"+str(b))"
      ],
      "execution_count": null,
      "outputs": [
        {
          "output_type": "stream",
          "text": [
            "w = [[0.]\n",
            " [0.]]\n",
            "b = 0\n"
          ],
          "name": "stdout"
        }
      ]
    },
    {
      "cell_type": "markdown",
      "metadata": {
        "id": "dZ932_Wu5s7o"
      },
      "source": [
        "# **Forward & Backward propagation**"
      ]
    },
    {
      "cell_type": "markdown",
      "metadata": {
        "id": "eZ2D2yky537m"
      },
      "source": [
        "here we will implement a function propagate() that computes the cost function and its gradient"
      ]
    },
    {
      "cell_type": "code",
      "metadata": {
        "id": "GftL9tX45hfX"
      },
      "source": [
        "def propagate(w, b, X, Y):\r\n",
        "\r\n",
        "  m = X.shape[1]\r\n",
        "\r\n",
        "  #forward prop\r\n",
        "  A = sigmoid(np.dot(w.T,X)+b)                              #compute activation\r\n",
        "  cost = (-1/m)*np.sum(Y*np.log(A) + (1-Y)*(np.log(1-A)))   #compute cost\r\n",
        "\r\n",
        "  #backward prop\r\n",
        "  dw = (1/m)*np.dot(X,(A-Y).T)\r\n",
        "  db = (1/m)*np.sum(A-Y)\r\n",
        "\r\n",
        "  assert(dw.shape == w.shape)\r\n",
        "  assert(db.dtype == float)\r\n",
        "\r\n",
        "  cost = np.squeeze(cost)\r\n",
        "\r\n",
        "  assert(cost.shape == ())\r\n",
        "\r\n",
        "  grads = {\"dw\": dw, \"db\": db}\r\n",
        "\r\n",
        "  return grads, cost"
      ],
      "execution_count": null,
      "outputs": []
    },
    {
      "cell_type": "code",
      "metadata": {
        "colab": {
          "base_uri": "https://localhost:8080/"
        },
        "id": "O81-ka0q7-SP",
        "outputId": "2c4a79ce-5841-4301-fd29-f6732d2dfb31"
      },
      "source": [
        "#testing\r\n",
        "w,b,X,Y = np.array([[1],[2]]), 2, np.array([[1,2],[3,4]]), np.array([[1,0]]) \r\n",
        "\r\n",
        "grads, cost = propagate(w, b, X, Y)\r\n",
        "print (\"dw = \" + str(grads[\"dw\"]))\r\n",
        "print (\"db = \" + str(grads[\"db\"]))\r\n",
        "print (\"cost = \" + str(cost))"
      ],
      "execution_count": null,
      "outputs": [
        {
          "output_type": "stream",
          "text": [
            "dw = [[0.99993216]\n",
            " [1.99980262]]\n",
            "db = 0.49993523062470574\n",
            "cost = 6.000064773192205\n"
          ],
          "name": "stdout"
        }
      ]
    },
    {
      "cell_type": "markdown",
      "metadata": {
        "id": "6ufnk7Y690af"
      },
      "source": [
        "# **Optimization**"
      ]
    },
    {
      "cell_type": "markdown",
      "metadata": {
        "id": "00GoxQTI98EK"
      },
      "source": [
        " The goal is to learn $w$ and $b$ by minimizing the cost function $J$. For a parameter $\\theta$, the update rule is $ \\theta = \\theta - \\alpha \\text{ } d\\theta$, where $\\alpha$ is the learning rate."
      ]
    },
    {
      "cell_type": "code",
      "metadata": {
        "id": "zxSpFUGf8qms"
      },
      "source": [
        "def optimize(w, b, X, Y, num_iterations, learning_rate, print_cost=False):\r\n",
        "\r\n",
        "  costs = []\r\n",
        "\r\n",
        "  for i in range(num_iterations):\r\n",
        "\r\n",
        "    grads, cost = propagate(w,b,X,Y)\r\n",
        "\r\n",
        "    dw = grads[\"dw\"]\r\n",
        "    db = grads[\"db\"]\r\n",
        "\r\n",
        "    #update\r\n",
        "    w = w - learning_rate * dw\r\n",
        "    b = b - learning_rate\r\n",
        "\r\n",
        "    #record the costs\r\n",
        "    if i % 100 == 0:\r\n",
        "      costs.append(cost)\r\n",
        "\r\n",
        "    #print cost every 100 training examples\r\n",
        "    if print_cost and i % 100 == 0:\r\n",
        "      print(\"Cost after iteration %i : %f\" % (i, cost))\r\n",
        "  \r\n",
        "  params = {\"w\": w,\r\n",
        "            \"b\": b}\r\n",
        "\r\n",
        "  grads = {\"dw\": dw,\r\n",
        "           \"db\": db}\r\n",
        "\r\n",
        "  return params, grads, costs\r\n"
      ],
      "execution_count": null,
      "outputs": []
    },
    {
      "cell_type": "code",
      "metadata": {
        "colab": {
          "base_uri": "https://localhost:8080/"
        },
        "id": "6TRnYQHEAy4f",
        "outputId": "5bd97c52-1dbf-471e-f59a-9fce61fbec11"
      },
      "source": [
        "#testing\r\n",
        "params, grads, costs = optimize(w, b, X, Y, num_iterations= 100, learning_rate = 0.009, print_cost = False)\r\n",
        "\r\n",
        "print (\"w = \" + str(params[\"w\"]))\r\n",
        "print (\"b = \" + str(params[\"b\"]))\r\n",
        "print (\"dw = \" + str(grads[\"dw\"]))\r\n",
        "print (\"db = \" + str(grads[\"db\"]))"
      ],
      "execution_count": null,
      "outputs": [
        {
          "output_type": "stream",
          "text": [
            "w = [[0.11769657]\n",
            " [0.24407619]]\n",
            "b = 1.1000000000000103\n",
            "dw = [[0.85749452]\n",
            " [1.65598106]]\n",
            "db = 0.3992432692299293\n"
          ],
          "name": "stdout"
        }
      ]
    },
    {
      "cell_type": "markdown",
      "metadata": {
        "id": "TbNhBt6pFVUb"
      },
      "source": [
        "The previous function will output the learned w and b. We are able to use w and b to predict the labels for a dataset X. Implement the predict() function. There is two steps to computing predictions:\r\n",
        "\r\n",
        "Calculate $\\hat{Y} = A = \\sigma(w^T X + b)$\r\n",
        "\r\n",
        "Convert the entries of a into 0 (if activation <= 0.5) or 1 (if activation > 0.5), stores the predictions in a vector Y_prediction. If you wish, you can use an if/else statement in a for loop (though there is also a way to vectorize this)."
      ]
    },
    {
      "cell_type": "code",
      "metadata": {
        "id": "rWWACcboA36r"
      },
      "source": [
        "def predict(w, b, X):\r\n",
        "        \r\n",
        "    m = X.shape[1]\r\n",
        "    Y_prediction = np.zeros((1, m))\r\n",
        "    w = w.reshape(X.shape[0], 1)\r\n",
        "    \r\n",
        "    # Compute vector \"A\" predicting the probabilities of a cat being present in the picture\r\n",
        "    A = sigmoid(np.dot(w.T, X) + b)\r\n",
        "    \r\n",
        "    for i in range(A.shape[1]):\r\n",
        "        # Convert probabilities a[0,i] to actual predictions p[0,i]\r\n",
        "        Y_prediction[0, i] = 1 if A[0, i] > 0.5 else 0\r\n",
        "    \r\n",
        "    assert(Y_prediction.shape == (1, m))\r\n",
        "    \r\n",
        "    return Y_prediction"
      ],
      "execution_count": null,
      "outputs": []
    },
    {
      "cell_type": "code",
      "metadata": {
        "colab": {
          "base_uri": "https://localhost:8080/"
        },
        "id": "H67e_pDzGjnE",
        "outputId": "b87ed1c7-0131-4fe3-a771-ae40ba01d206"
      },
      "source": [
        "print(\"predictions = \" + str(predict(w, b, X)))"
      ],
      "execution_count": null,
      "outputs": [
        {
          "output_type": "stream",
          "text": [
            "predictions = [[1. 1.]]\n"
          ],
          "name": "stdout"
        }
      ]
    },
    {
      "cell_type": "code",
      "metadata": {
        "id": "vmp5T0GDGtHQ"
      },
      "source": [
        "def model(X_train, Y_train, X_test, Y_test, num_iterations = 2000, learning_rate = 0.1, print_cost=False):\r\n",
        "  \r\n",
        "  #initializing parameters\r\n",
        "  w,b = initialize_with_zeros(X_train.shape[0])\r\n",
        "\r\n",
        "  #gradient descent\r\n",
        "  parameters, grads, costs = optimize(w,b,X_train,Y_train,num_iterations, learning_rate, print_cost)\r\n",
        "\r\n",
        "  #retrieve parameters w & b from dictionary \"parameters\"\r\n",
        "  w = parameters[\"w\"]\r\n",
        "  b = parameters[\"b\"]\r\n",
        "\r\n",
        "  #predict test/train set examples\r\n",
        "  Y_prediction_test = predict(w,b,X_test)\r\n",
        "  Y_prediction_train = predict(w,b,X_train)\r\n",
        "\r\n",
        "  #print train/test errors\r\n",
        "  print(\"train accuracy: {} %\".format(100-np.mean(np.abs(Y_prediction_train - Y_train)) * 100))\r\n",
        "  print(\"test accuracy: {} %\".format(100-np.mean(np.abs(Y_prediction_test - Y_test)) * 100))\r\n",
        "\r\n",
        "  d = {\"costs\": costs,\r\n",
        "       \"Y_prediction_test\": Y_prediction_test,\r\n",
        "       \"Y_prediction_train\": Y_prediction_train,\r\n",
        "       \"w\": w,\r\n",
        "       \"b\": b,\r\n",
        "       \"learning_rate\": learning_rate,\r\n",
        "       \"num_iterations\": num_iterations}\r\n",
        "  \r\n",
        "  return d"
      ],
      "execution_count": null,
      "outputs": []
    },
    {
      "cell_type": "code",
      "metadata": {
        "colab": {
          "base_uri": "https://localhost:8080/"
        },
        "id": "yjZ0T1GOVTTE",
        "outputId": "6a23c7c0-88eb-4fe9-ff0f-c9e2b1efd4da"
      },
      "source": [
        "d = model(train_set_x, train_set_y, test_set_x, test_set_y, num_iterations = 8000, learning_rate = 0.01, print_cost = True)"
      ],
      "execution_count": null,
      "outputs": [
        {
          "output_type": "stream",
          "text": [
            "Cost after iteration 0 : 0.693147\n",
            "Cost after iteration 100 : 0.424862\n",
            "Cost after iteration 200 : 0.464783\n",
            "Cost after iteration 300 : 0.669042\n",
            "Cost after iteration 400 : 0.558444\n",
            "Cost after iteration 500 : 0.409796\n",
            "Cost after iteration 600 : 0.313547\n",
            "Cost after iteration 700 : 0.253319\n",
            "Cost after iteration 800 : 0.219856\n",
            "Cost after iteration 900 : 0.210097\n",
            "Cost after iteration 1000 : 0.209126\n",
            "Cost after iteration 1100 : 0.209227\n",
            "Cost after iteration 1200 : 0.209769\n",
            "Cost after iteration 1300 : 0.210614\n",
            "Cost after iteration 1400 : 0.211684\n",
            "Cost after iteration 1500 : 0.212926\n",
            "Cost after iteration 1600 : 0.214302\n",
            "Cost after iteration 1700 : 0.215783\n",
            "Cost after iteration 1800 : 0.217350\n",
            "Cost after iteration 1900 : 0.218984\n",
            "Cost after iteration 2000 : 0.220674\n",
            "Cost after iteration 2100 : 0.222409\n",
            "Cost after iteration 2200 : 0.224180\n",
            "Cost after iteration 2300 : 0.225982\n",
            "Cost after iteration 2400 : 0.227809\n",
            "Cost after iteration 2500 : 0.229656\n",
            "Cost after iteration 2600 : 0.231521\n",
            "Cost after iteration 2700 : 0.233399\n",
            "Cost after iteration 2800 : 0.235290\n",
            "Cost after iteration 2900 : 0.237191\n",
            "Cost after iteration 3000 : 0.239101\n",
            "Cost after iteration 3100 : 0.241017\n",
            "Cost after iteration 3200 : 0.242940\n",
            "Cost after iteration 3300 : 0.244868\n",
            "Cost after iteration 3400 : 0.246800\n",
            "Cost after iteration 3500 : 0.248736\n",
            "Cost after iteration 3600 : 0.250676\n",
            "Cost after iteration 3700 : 0.252618\n",
            "Cost after iteration 3800 : 0.254564\n",
            "Cost after iteration 3900 : 0.256511\n",
            "Cost after iteration 4000 : 0.258460\n",
            "Cost after iteration 4100 : 0.260411\n",
            "Cost after iteration 4200 : 0.262363\n",
            "Cost after iteration 4300 : 0.264317\n",
            "Cost after iteration 4400 : 0.266272\n",
            "Cost after iteration 4500 : 0.268228\n",
            "Cost after iteration 4600 : 0.270185\n",
            "Cost after iteration 4700 : 0.272142\n",
            "Cost after iteration 4800 : 0.274101\n",
            "Cost after iteration 4900 : 0.276060\n",
            "Cost after iteration 5000 : 0.278020\n",
            "Cost after iteration 5100 : 0.279980\n",
            "Cost after iteration 5200 : 0.281941\n",
            "Cost after iteration 5300 : 0.283903\n",
            "Cost after iteration 5400 : 0.285864\n",
            "Cost after iteration 5500 : 0.287826\n",
            "Cost after iteration 5600 : 0.289789\n",
            "Cost after iteration 5700 : 0.291751\n",
            "Cost after iteration 5800 : 0.293714\n",
            "Cost after iteration 5900 : 0.295677\n",
            "Cost after iteration 6000 : 0.297640\n",
            "Cost after iteration 6100 : 0.299604\n",
            "Cost after iteration 6200 : 0.301567\n",
            "Cost after iteration 6300 : 0.303531\n",
            "Cost after iteration 6400 : 0.305494\n",
            "Cost after iteration 6500 : 0.307458\n",
            "Cost after iteration 6600 : 0.309422\n",
            "Cost after iteration 6700 : 0.311386\n",
            "Cost after iteration 6800 : 0.313349\n",
            "Cost after iteration 6900 : 0.315313\n",
            "Cost after iteration 7000 : 0.317277\n",
            "Cost after iteration 7100 : 0.319240\n",
            "Cost after iteration 7200 : 0.321204\n",
            "Cost after iteration 7300 : 0.323168\n",
            "Cost after iteration 7400 : 0.325131\n",
            "Cost after iteration 7500 : 0.327094\n"
          ],
          "name": "stdout"
        },
        {
          "output_type": "stream",
          "text": [
            "/usr/local/lib/python3.6/dist-packages/ipykernel_launcher.py:7: RuntimeWarning: divide by zero encountered in log\n",
            "  import sys\n",
            "/usr/local/lib/python3.6/dist-packages/ipykernel_launcher.py:7: RuntimeWarning: invalid value encountered in multiply\n",
            "  import sys\n"
          ],
          "name": "stderr"
        },
        {
          "output_type": "stream",
          "text": [
            "Cost after iteration 7600 : nan\n",
            "Cost after iteration 7700 : nan\n",
            "Cost after iteration 7800 : nan\n",
            "Cost after iteration 7900 : nan\n",
            "train accuracy: 92.82296650717703 %\n",
            "test accuracy: 68.0 %\n"
          ],
          "name": "stdout"
        }
      ]
    },
    {
      "cell_type": "code",
      "metadata": {
        "colab": {
          "base_uri": "https://localhost:8080/",
          "height": 286
        },
        "id": "xcXBSW20WHkB",
        "outputId": "4e70cf13-74fa-4117-c942-d8ad63a19e0b"
      },
      "source": [
        "# Example of a picture that was wrongly classified.\r\n",
        "index = 24\r\n",
        "plt.imshow(test_set_x[:,index].reshape((num_px, num_px, 3)))\r\n",
        "print (\"y = \" + str(int(test_set_y[0, index])) + \", you predicted that it is a \\\"\" + classes[int(d[\"Y_prediction_test\"][0,index])].decode(\"utf-8\") +  \"\\\" picture.\")\r\n"
      ],
      "execution_count": null,
      "outputs": [
        {
          "output_type": "stream",
          "text": [
            "y = 1, you predicted that it is a \"non-cat\" picture.\n"
          ],
          "name": "stdout"
        },
        {
          "output_type": "display_data",
          "data": {
            "image/png": "[encoded data removed]",
            "text/plain": [
              "<Figure size 432x288 with 1 Axes>"
            ]
          },
          "metadata": {
            "tags": [],
            "needs_background": "light"
          }
        }
      ]
    },
    {
      "cell_type": "code",
      "metadata": {
        "colab": {
          "base_uri": "https://localhost:8080/",
          "height": 295
        },
        "id": "VyjVwMZwWyWn",
        "outputId": "1110e17c-2480-42e9-a1d3-a2f60adb9e08"
      },
      "source": [
        "# Plot learning curve (with costs)\r\n",
        "costs = np.squeeze(d['costs'])\r\n",
        "plt.plot(costs)\r\n",
        "plt.ylabel('cost')\r\n",
        "plt.xlabel('iterations (per hundreds)')\r\n",
        "plt.title(\"Learning rate =\" + str(d[\"learning_rate\"]))\r\n",
        "plt.show()"
      ],
      "execution_count": null,
      "outputs": [
        {
          "output_type": "display_data",
          "data": {
            "image/png": "[encoded data removed]",
            "text/plain": [
              "<Figure size 432x288 with 1 Axes>"
            ]
          },
          "metadata": {
            "tags": [],
            "needs_background": "light"
          }
        }
      ]
    },
    {
      "cell_type": "code",
      "metadata": {
        "colab": {
          "base_uri": "https://localhost:8080/",
          "height": 603
        },
        "id": "Locosx6_Yo2_",
        "outputId": "66eb01f4-e4ab-4008-a2a5-f5b6c3177800"
      },
      "source": [
        "\r\n",
        "learning_rates = [0.01, 0.001, 0.0001]\r\n",
        "models = {}\r\n",
        "for i in learning_rates:\r\n",
        "    print (\"learning rate is: \" + str(i))\r\n",
        "    models[str(i)] = model(train_set_x, train_set_y, test_set_x, test_set_y, num_iterations = 1500, learning_rate = i, print_cost = False)\r\n",
        "    print ('\\n' + \"-------------------------------------------------------\" + '\\n')\r\n",
        "\r\n",
        "for i in learning_rates:\r\n",
        "    plt.plot(np.squeeze(models[str(i)][\"costs\"]), label= str(models[str(i)][\"learning_rate\"]))\r\n",
        "\r\n",
        "plt.ylabel('cost')\r\n",
        "plt.xlabel('iterations')\r\n",
        "\r\n",
        "legend = plt.legend(loc='upper center', shadow=True)\r\n",
        "frame = legend.get_frame()\r\n",
        "frame.set_facecolor('0.90')\r\n",
        "plt.show()\r\n"
      ],
      "execution_count": null,
      "outputs": [
        {
          "output_type": "stream",
          "text": [
            "learning rate is: 0.01\n",
            "train accuracy: 93.77990430622009 %\n",
            "test accuracy: 64.0 %\n",
            "\n",
            "-------------------------------------------------------\n",
            "\n",
            "learning rate is: 0.001\n",
            "train accuracy: 87.5598086124402 %\n",
            "test accuracy: 64.0 %\n",
            "\n",
            "-------------------------------------------------------\n",
            "\n",
            "learning rate is: 0.0001\n",
            "train accuracy: 67.94258373205741 %\n",
            "test accuracy: 34.0 %\n",
            "\n",
            "-------------------------------------------------------\n",
            "\n"
          ],
          "name": "stdout"
        },
        {
          "output_type": "display_data",
          "data": {
            "image/png": "[encoded data removed]",
            "text/plain": [
              "<Figure size 432x288 with 1 Axes>"
            ]
          },
          "metadata": {
            "tags": [],
            "needs_background": "light"
          }
        }
      ]
    },
    {
      "cell_type": "code",
      "metadata": {
        "id": "MyslXd79Y2tN"
      },
      "source": [
        ""
      ],
      "execution_count": null,
      "outputs": []
    }
  ]
}